{
  "cells": [
    {
      "cell_type": "markdown",
      "metadata": {
        "id": "view-in-github",
        "colab_type": "text"
      },
      "source": [
        "<a href=\"https://colab.research.google.com/github/zakiyarofiq/Project_Akhir/blob/main/Training.ipynb\" target=\"_parent\"><img src=\"https://colab.research.google.com/assets/colab-badge.svg\" alt=\"Open In Colab\"/></a>"
      ]
    },
    {
      "cell_type": "code",
      "execution_count": null,
      "metadata": {
        "id": "xDw52uilnV02"
      },
      "outputs": [],
      "source": [
        "from google.colab import drive"
      ]
    },
    {
      "cell_type": "code",
      "execution_count": null,
      "metadata": {
        "colab": {
          "base_uri": "https://localhost:8080/"
        },
        "id": "McG4MC9Gwsph",
        "outputId": "c27ea2da-6728-422c-8c7b-be853319414d"
      },
      "outputs": [
        {
          "output_type": "stream",
          "name": "stdout",
          "text": [
            "Mounted at /content/gdrive\n"
          ]
        }
      ],
      "source": [
        "drive.mount('/content/gdrive')"
      ]
    },
    {
      "cell_type": "code",
      "execution_count": null,
      "metadata": {
        "id": "u2skZUx-w8NP"
      },
      "outputs": [],
      "source": [
        "import torch\n",
        "import os\n",
        "import numpy as np\n",
        "import matplotlib.pyplot as plt\n",
        "import seaborn as sns\n",
        "from tqdm import tqdm\n",
        "import torchsummary as summary\n",
        "from torch.utils.data import Dataset, DataLoader, random_split\n",
        "import torch.nn.functional as F\n",
        "import torch.nn as nn\n",
        "import torchvision\n",
        "import torchvision.transforms as T\n",
        "import torchvision.models as models\n",
        "from torchvision.datasets import ImageFolder\n",
        "from torchvision.transforms import ToTensor\n",
        "from torch.utils.data import random_split\n",
        "import torch.nn.functional as F\n",
        "import torch\n",
        "from torch.utils.tensorboard import SummaryWriter\n",
        "writer = SummaryWriter()\n",
        "import time\n",
        "import copy\n",
        "from PIL import Image, ImageFile\n",
        "ImageFile.LOAD_TRUNCATED_IMAGES = True"
      ]
    },
    {
      "cell_type": "code",
      "execution_count": null,
      "metadata": {
        "colab": {
          "base_uri": "https://localhost:8080/"
        },
        "id": "_T69u2_jxbil",
        "outputId": "8ddd66f8-929d-4e02-934d-2b55c1617c40"
      },
      "outputs": [
        {
          "output_type": "execute_result",
          "data": {
            "text/plain": [
              "['eksim', 'psoriasis', 'scabies']"
            ]
          },
          "metadata": {},
          "execution_count": 4
        }
      ],
      "source": [
        "data_dir = './gdrive/MyDrive/datatraining/'\n",
        "classes = os.listdir(data_dir)\n",
        "classes"
      ]
    },
    {
      "cell_type": "code",
      "execution_count": null,
      "metadata": {
        "id": "7KTjSOqGyXTH"
      },
      "outputs": [],
      "source": [
        "def get_transforms(mode='train'):\n",
        "    transform = []\n",
        "    transform.append(T.Resize((512, 512)))\n",
        "    transform.append(T.ToTensor())\n",
        "    transform.append(T.RandomHorizontalFlip(0.5))\n",
        "    return T.Compose(transform)"
      ]
    },
    {
      "cell_type": "code",
      "execution_count": null,
      "metadata": {
        "colab": {
          "base_uri": "https://localhost:8080/"
        },
        "id": "DlPEMb3byYtF",
        "outputId": "f37d770e-88ca-4dd3-f09c-c48fd8626999"
      },
      "outputs": [
        {
          "output_type": "execute_result",
          "data": {
            "text/plain": [
              "Dataset ImageFolder\n",
              "    Number of datapoints: 140\n",
              "    Root location: ./gdrive/MyDrive/datatraining/\n",
              "    StandardTransform\n",
              "Transform: Compose(\n",
              "               Resize(size=(512, 512), interpolation=bilinear, max_size=None, antialias=None)\n",
              "               ToTensor()\n",
              "               RandomHorizontalFlip(p=0.5)\n",
              "           )"
            ]
          },
          "metadata": {},
          "execution_count": 6
        }
      ],
      "source": [
        "dataset = ImageFolder(data_dir, transform=get_transforms())\n",
        "dataset"
      ]
    },
    {
      "cell_type": "code",
      "execution_count": null,
      "metadata": {
        "colab": {
          "base_uri": "https://localhost:8080/"
        },
        "id": "NRSLq08NywNz",
        "outputId": "6d402a83-6db1-4a48-98f2-114dcd824599"
      },
      "outputs": [
        {
          "output_type": "execute_result",
          "data": {
            "text/plain": [
              "140"
            ]
          },
          "metadata": {},
          "execution_count": 7
        }
      ],
      "source": [
        "len(dataset)"
      ]
    },
    {
      "cell_type": "code",
      "execution_count": null,
      "metadata": {
        "colab": {
          "base_uri": "https://localhost:8080/"
        },
        "id": "X3j_5hBKyy_c",
        "outputId": "5837bab1-ef5f-41ee-eaaf-91c3faaf6d5b"
      },
      "outputs": [
        {
          "output_type": "stream",
          "name": "stdout",
          "text": [
            "torch.Size([3, 512, 512]) 0\n"
          ]
        },
        {
          "output_type": "execute_result",
          "data": {
            "text/plain": [
              "tensor([[[0.8588, 0.8784, 0.8902,  ..., 0.9647, 0.9882, 0.9961],\n",
              "         [0.8706, 0.8784, 0.8902,  ..., 0.9725, 0.9922, 0.9882],\n",
              "         [0.8824, 0.8784, 0.8863,  ..., 0.9843, 0.9961, 0.9804],\n",
              "         ...,\n",
              "         [0.6353, 0.6510, 0.6510,  ..., 0.7098, 0.7216, 0.7176],\n",
              "         [0.6275, 0.6471, 0.6431,  ..., 0.7098, 0.7216, 0.7176],\n",
              "         [0.6275, 0.6431, 0.6392,  ..., 0.7098, 0.7216, 0.7176]],\n",
              "\n",
              "        [[0.5922, 0.6157, 0.6314,  ..., 0.6980, 0.7137, 0.7098],\n",
              "         [0.6039, 0.6157, 0.6314,  ..., 0.7020, 0.7137, 0.6980],\n",
              "         [0.6157, 0.6118, 0.6235,  ..., 0.7137, 0.7098, 0.6784],\n",
              "         ...,\n",
              "         [0.4353, 0.4471, 0.4353,  ..., 0.4314, 0.4471, 0.4510],\n",
              "         [0.4275, 0.4392, 0.4314,  ..., 0.4314, 0.4471, 0.4510],\n",
              "         [0.4275, 0.4353, 0.4275,  ..., 0.4314, 0.4471, 0.4510]],\n",
              "\n",
              "        [[0.5490, 0.5725, 0.5843,  ..., 0.6706, 0.6824, 0.6627],\n",
              "         [0.5608, 0.5686, 0.5843,  ..., 0.6784, 0.6824, 0.6510],\n",
              "         [0.5725, 0.5686, 0.5804,  ..., 0.6902, 0.6784, 0.6392],\n",
              "         ...,\n",
              "         [0.3922, 0.4000, 0.3804,  ..., 0.3451, 0.3608, 0.3686],\n",
              "         [0.3882, 0.3922, 0.3765,  ..., 0.3451, 0.3608, 0.3686],\n",
              "         [0.3882, 0.3882, 0.3686,  ..., 0.3451, 0.3608, 0.3686]]])"
            ]
          },
          "metadata": {},
          "execution_count": 8
        }
      ],
      "source": [
        "img, label = dataset[3]\n",
        "print(img.shape, label)\n",
        "img"
      ]
    },
    {
      "cell_type": "code",
      "execution_count": null,
      "metadata": {
        "colab": {
          "base_uri": "https://localhost:8080/"
        },
        "id": "W0PXTdzqy2zg",
        "outputId": "59191d28-0a2d-480e-c765-14f3cad45eb6"
      },
      "outputs": [
        {
          "output_type": "execute_result",
          "data": {
            "text/plain": [
              "(112, 28)"
            ]
          },
          "metadata": {},
          "execution_count": 9
        }
      ],
      "source": [
        "random_seed = 42\n",
        "torch.manual_seed(random_seed);\n",
        "val_size = int(0.2 * len(dataset))\n",
        "train_size = len(dataset) - val_size\n",
        "\n",
        "train_ds, val_ds = random_split(dataset, [train_size, val_size])\n",
        "len(train_ds), len(val_ds)"
      ]
    },
    {
      "cell_type": "code",
      "execution_count": null,
      "metadata": {
        "colab": {
          "base_uri": "https://localhost:8080/",
          "height": 156,
          "referenced_widgets": [
            "cae1cac4492b48b7bbbe309774f701b1",
            "a0ba001724154e9cbbfe5bf8e9642b69",
            "974a8ad52f1e4c5fb2ba549c19bca1af",
            "b91bcb682f6545379bf42ce668bca73b",
            "6b21e0a4b2d84070960aa068a56c71e0",
            "a88337f2c63647c7b77cd54d990b729d",
            "da909e08392a496ea2da4d118305ad1a",
            "85637dab4df04c92923777979f67a3df",
            "c916761b3e874e6b8e926d0d55af9e08",
            "38b3adb840844ea3bdc26d83d82f3134",
            "e2ec9b0e77644f6fbb551d33884d0b9b"
          ]
        },
        "id": "zPBg1-SzfanC",
        "outputId": "57ba5031-9958-4afa-f758-daab095d232a"
      },
      "outputs": [
        {
          "output_type": "stream",
          "name": "stderr",
          "text": [
            "/usr/local/lib/python3.9/dist-packages/torchvision/models/_utils.py:208: UserWarning: The parameter 'pretrained' is deprecated since 0.13 and may be removed in the future, please use 'weights' instead.\n",
            "  warnings.warn(\n",
            "/usr/local/lib/python3.9/dist-packages/torchvision/models/_utils.py:223: UserWarning: Arguments other than a weight enum or `None` for 'weights' are deprecated since 0.13 and may be removed in the future. The current behavior is equivalent to passing `weights=EfficientNet_B0_Weights.IMAGENET1K_V1`. You can also use `weights=EfficientNet_B0_Weights.DEFAULT` to get the most up-to-date weights.\n",
            "  warnings.warn(msg)\n",
            "Downloading: \"https://download.pytorch.org/models/efficientnet_b0_rwightman-3dd342df.pth\" to /root/.cache/torch/hub/checkpoints/efficientnet_b0_rwightman-3dd342df.pth\n"
          ]
        },
        {
          "output_type": "display_data",
          "data": {
            "text/plain": [
              "  0%|          | 0.00/20.5M [00:00<?, ?B/s]"
            ],
            "application/vnd.jupyter.widget-view+json": {
              "version_major": 2,
              "version_minor": 0,
              "model_id": "cae1cac4492b48b7bbbe309774f701b1"
            }
          },
          "metadata": {}
        }
      ],
      "source": [
        "efficientnet_b0 = models.efficientnet_b0(pretrained=True)"
      ]
    },
    {
      "cell_type": "code",
      "execution_count": null,
      "metadata": {
        "colab": {
          "base_uri": "https://localhost:8080/"
        },
        "id": "wvM-uf2ffeLU",
        "outputId": "95c3d540-b065-4070-9b8f-a4a42e82f298"
      },
      "outputs": [
        {
          "output_type": "execute_result",
          "data": {
            "text/plain": [
              "EfficientNet(\n",
              "  (features): Sequential(\n",
              "    (0): Conv2dNormActivation(\n",
              "      (0): Conv2d(3, 32, kernel_size=(3, 3), stride=(2, 2), padding=(1, 1), bias=False)\n",
              "      (1): BatchNorm2d(32, eps=1e-05, momentum=0.1, affine=True, track_running_stats=True)\n",
              "      (2): SiLU(inplace=True)\n",
              "    )\n",
              "    (1): Sequential(\n",
              "      (0): MBConv(\n",
              "        (block): Sequential(\n",
              "          (0): Conv2dNormActivation(\n",
              "            (0): Conv2d(32, 32, kernel_size=(3, 3), stride=(1, 1), padding=(1, 1), groups=32, bias=False)\n",
              "            (1): BatchNorm2d(32, eps=1e-05, momentum=0.1, affine=True, track_running_stats=True)\n",
              "            (2): SiLU(inplace=True)\n",
              "          )\n",
              "          (1): SqueezeExcitation(\n",
              "            (avgpool): AdaptiveAvgPool2d(output_size=1)\n",
              "            (fc1): Conv2d(32, 8, kernel_size=(1, 1), stride=(1, 1))\n",
              "            (fc2): Conv2d(8, 32, kernel_size=(1, 1), stride=(1, 1))\n",
              "            (activation): SiLU(inplace=True)\n",
              "            (scale_activation): Sigmoid()\n",
              "          )\n",
              "          (2): Conv2dNormActivation(\n",
              "            (0): Conv2d(32, 16, kernel_size=(1, 1), stride=(1, 1), bias=False)\n",
              "            (1): BatchNorm2d(16, eps=1e-05, momentum=0.1, affine=True, track_running_stats=True)\n",
              "          )\n",
              "        )\n",
              "        (stochastic_depth): StochasticDepth(p=0.0, mode=row)\n",
              "      )\n",
              "    )\n",
              "    (2): Sequential(\n",
              "      (0): MBConv(\n",
              "        (block): Sequential(\n",
              "          (0): Conv2dNormActivation(\n",
              "            (0): Conv2d(16, 96, kernel_size=(1, 1), stride=(1, 1), bias=False)\n",
              "            (1): BatchNorm2d(96, eps=1e-05, momentum=0.1, affine=True, track_running_stats=True)\n",
              "            (2): SiLU(inplace=True)\n",
              "          )\n",
              "          (1): Conv2dNormActivation(\n",
              "            (0): Conv2d(96, 96, kernel_size=(3, 3), stride=(2, 2), padding=(1, 1), groups=96, bias=False)\n",
              "            (1): BatchNorm2d(96, eps=1e-05, momentum=0.1, affine=True, track_running_stats=True)\n",
              "            (2): SiLU(inplace=True)\n",
              "          )\n",
              "          (2): SqueezeExcitation(\n",
              "            (avgpool): AdaptiveAvgPool2d(output_size=1)\n",
              "            (fc1): Conv2d(96, 4, kernel_size=(1, 1), stride=(1, 1))\n",
              "            (fc2): Conv2d(4, 96, kernel_size=(1, 1), stride=(1, 1))\n",
              "            (activation): SiLU(inplace=True)\n",
              "            (scale_activation): Sigmoid()\n",
              "          )\n",
              "          (3): Conv2dNormActivation(\n",
              "            (0): Conv2d(96, 24, kernel_size=(1, 1), stride=(1, 1), bias=False)\n",
              "            (1): BatchNorm2d(24, eps=1e-05, momentum=0.1, affine=True, track_running_stats=True)\n",
              "          )\n",
              "        )\n",
              "        (stochastic_depth): StochasticDepth(p=0.0125, mode=row)\n",
              "      )\n",
              "      (1): MBConv(\n",
              "        (block): Sequential(\n",
              "          (0): Conv2dNormActivation(\n",
              "            (0): Conv2d(24, 144, kernel_size=(1, 1), stride=(1, 1), bias=False)\n",
              "            (1): BatchNorm2d(144, eps=1e-05, momentum=0.1, affine=True, track_running_stats=True)\n",
              "            (2): SiLU(inplace=True)\n",
              "          )\n",
              "          (1): Conv2dNormActivation(\n",
              "            (0): Conv2d(144, 144, kernel_size=(3, 3), stride=(1, 1), padding=(1, 1), groups=144, bias=False)\n",
              "            (1): BatchNorm2d(144, eps=1e-05, momentum=0.1, affine=True, track_running_stats=True)\n",
              "            (2): SiLU(inplace=True)\n",
              "          )\n",
              "          (2): SqueezeExcitation(\n",
              "            (avgpool): AdaptiveAvgPool2d(output_size=1)\n",
              "            (fc1): Conv2d(144, 6, kernel_size=(1, 1), stride=(1, 1))\n",
              "            (fc2): Conv2d(6, 144, kernel_size=(1, 1), stride=(1, 1))\n",
              "            (activation): SiLU(inplace=True)\n",
              "            (scale_activation): Sigmoid()\n",
              "          )\n",
              "          (3): Conv2dNormActivation(\n",
              "            (0): Conv2d(144, 24, kernel_size=(1, 1), stride=(1, 1), bias=False)\n",
              "            (1): BatchNorm2d(24, eps=1e-05, momentum=0.1, affine=True, track_running_stats=True)\n",
              "          )\n",
              "        )\n",
              "        (stochastic_depth): StochasticDepth(p=0.025, mode=row)\n",
              "      )\n",
              "    )\n",
              "    (3): Sequential(\n",
              "      (0): MBConv(\n",
              "        (block): Sequential(\n",
              "          (0): Conv2dNormActivation(\n",
              "            (0): Conv2d(24, 144, kernel_size=(1, 1), stride=(1, 1), bias=False)\n",
              "            (1): BatchNorm2d(144, eps=1e-05, momentum=0.1, affine=True, track_running_stats=True)\n",
              "            (2): SiLU(inplace=True)\n",
              "          )\n",
              "          (1): Conv2dNormActivation(\n",
              "            (0): Conv2d(144, 144, kernel_size=(5, 5), stride=(2, 2), padding=(2, 2), groups=144, bias=False)\n",
              "            (1): BatchNorm2d(144, eps=1e-05, momentum=0.1, affine=True, track_running_stats=True)\n",
              "            (2): SiLU(inplace=True)\n",
              "          )\n",
              "          (2): SqueezeExcitation(\n",
              "            (avgpool): AdaptiveAvgPool2d(output_size=1)\n",
              "            (fc1): Conv2d(144, 6, kernel_size=(1, 1), stride=(1, 1))\n",
              "            (fc2): Conv2d(6, 144, kernel_size=(1, 1), stride=(1, 1))\n",
              "            (activation): SiLU(inplace=True)\n",
              "            (scale_activation): Sigmoid()\n",
              "          )\n",
              "          (3): Conv2dNormActivation(\n",
              "            (0): Conv2d(144, 40, kernel_size=(1, 1), stride=(1, 1), bias=False)\n",
              "            (1): BatchNorm2d(40, eps=1e-05, momentum=0.1, affine=True, track_running_stats=True)\n",
              "          )\n",
              "        )\n",
              "        (stochastic_depth): StochasticDepth(p=0.037500000000000006, mode=row)\n",
              "      )\n",
              "      (1): MBConv(\n",
              "        (block): Sequential(\n",
              "          (0): Conv2dNormActivation(\n",
              "            (0): Conv2d(40, 240, kernel_size=(1, 1), stride=(1, 1), bias=False)\n",
              "            (1): BatchNorm2d(240, eps=1e-05, momentum=0.1, affine=True, track_running_stats=True)\n",
              "            (2): SiLU(inplace=True)\n",
              "          )\n",
              "          (1): Conv2dNormActivation(\n",
              "            (0): Conv2d(240, 240, kernel_size=(5, 5), stride=(1, 1), padding=(2, 2), groups=240, bias=False)\n",
              "            (1): BatchNorm2d(240, eps=1e-05, momentum=0.1, affine=True, track_running_stats=True)\n",
              "            (2): SiLU(inplace=True)\n",
              "          )\n",
              "          (2): SqueezeExcitation(\n",
              "            (avgpool): AdaptiveAvgPool2d(output_size=1)\n",
              "            (fc1): Conv2d(240, 10, kernel_size=(1, 1), stride=(1, 1))\n",
              "            (fc2): Conv2d(10, 240, kernel_size=(1, 1), stride=(1, 1))\n",
              "            (activation): SiLU(inplace=True)\n",
              "            (scale_activation): Sigmoid()\n",
              "          )\n",
              "          (3): Conv2dNormActivation(\n",
              "            (0): Conv2d(240, 40, kernel_size=(1, 1), stride=(1, 1), bias=False)\n",
              "            (1): BatchNorm2d(40, eps=1e-05, momentum=0.1, affine=True, track_running_stats=True)\n",
              "          )\n",
              "        )\n",
              "        (stochastic_depth): StochasticDepth(p=0.05, mode=row)\n",
              "      )\n",
              "    )\n",
              "    (4): Sequential(\n",
              "      (0): MBConv(\n",
              "        (block): Sequential(\n",
              "          (0): Conv2dNormActivation(\n",
              "            (0): Conv2d(40, 240, kernel_size=(1, 1), stride=(1, 1), bias=False)\n",
              "            (1): BatchNorm2d(240, eps=1e-05, momentum=0.1, affine=True, track_running_stats=True)\n",
              "            (2): SiLU(inplace=True)\n",
              "          )\n",
              "          (1): Conv2dNormActivation(\n",
              "            (0): Conv2d(240, 240, kernel_size=(3, 3), stride=(2, 2), padding=(1, 1), groups=240, bias=False)\n",
              "            (1): BatchNorm2d(240, eps=1e-05, momentum=0.1, affine=True, track_running_stats=True)\n",
              "            (2): SiLU(inplace=True)\n",
              "          )\n",
              "          (2): SqueezeExcitation(\n",
              "            (avgpool): AdaptiveAvgPool2d(output_size=1)\n",
              "            (fc1): Conv2d(240, 10, kernel_size=(1, 1), stride=(1, 1))\n",
              "            (fc2): Conv2d(10, 240, kernel_size=(1, 1), stride=(1, 1))\n",
              "            (activation): SiLU(inplace=True)\n",
              "            (scale_activation): Sigmoid()\n",
              "          )\n",
              "          (3): Conv2dNormActivation(\n",
              "            (0): Conv2d(240, 80, kernel_size=(1, 1), stride=(1, 1), bias=False)\n",
              "            (1): BatchNorm2d(80, eps=1e-05, momentum=0.1, affine=True, track_running_stats=True)\n",
              "          )\n",
              "        )\n",
              "        (stochastic_depth): StochasticDepth(p=0.0625, mode=row)\n",
              "      )\n",
              "      (1): MBConv(\n",
              "        (block): Sequential(\n",
              "          (0): Conv2dNormActivation(\n",
              "            (0): Conv2d(80, 480, kernel_size=(1, 1), stride=(1, 1), bias=False)\n",
              "            (1): BatchNorm2d(480, eps=1e-05, momentum=0.1, affine=True, track_running_stats=True)\n",
              "            (2): SiLU(inplace=True)\n",
              "          )\n",
              "          (1): Conv2dNormActivation(\n",
              "            (0): Conv2d(480, 480, kernel_size=(3, 3), stride=(1, 1), padding=(1, 1), groups=480, bias=False)\n",
              "            (1): BatchNorm2d(480, eps=1e-05, momentum=0.1, affine=True, track_running_stats=True)\n",
              "            (2): SiLU(inplace=True)\n",
              "          )\n",
              "          (2): SqueezeExcitation(\n",
              "            (avgpool): AdaptiveAvgPool2d(output_size=1)\n",
              "            (fc1): Conv2d(480, 20, kernel_size=(1, 1), stride=(1, 1))\n",
              "            (fc2): Conv2d(20, 480, kernel_size=(1, 1), stride=(1, 1))\n",
              "            (activation): SiLU(inplace=True)\n",
              "            (scale_activation): Sigmoid()\n",
              "          )\n",
              "          (3): Conv2dNormActivation(\n",
              "            (0): Conv2d(480, 80, kernel_size=(1, 1), stride=(1, 1), bias=False)\n",
              "            (1): BatchNorm2d(80, eps=1e-05, momentum=0.1, affine=True, track_running_stats=True)\n",
              "          )\n",
              "        )\n",
              "        (stochastic_depth): StochasticDepth(p=0.07500000000000001, mode=row)\n",
              "      )\n",
              "      (2): MBConv(\n",
              "        (block): Sequential(\n",
              "          (0): Conv2dNormActivation(\n",
              "            (0): Conv2d(80, 480, kernel_size=(1, 1), stride=(1, 1), bias=False)\n",
              "            (1): BatchNorm2d(480, eps=1e-05, momentum=0.1, affine=True, track_running_stats=True)\n",
              "            (2): SiLU(inplace=True)\n",
              "          )\n",
              "          (1): Conv2dNormActivation(\n",
              "            (0): Conv2d(480, 480, kernel_size=(3, 3), stride=(1, 1), padding=(1, 1), groups=480, bias=False)\n",
              "            (1): BatchNorm2d(480, eps=1e-05, momentum=0.1, affine=True, track_running_stats=True)\n",
              "            (2): SiLU(inplace=True)\n",
              "          )\n",
              "          (2): SqueezeExcitation(\n",
              "            (avgpool): AdaptiveAvgPool2d(output_size=1)\n",
              "            (fc1): Conv2d(480, 20, kernel_size=(1, 1), stride=(1, 1))\n",
              "            (fc2): Conv2d(20, 480, kernel_size=(1, 1), stride=(1, 1))\n",
              "            (activation): SiLU(inplace=True)\n",
              "            (scale_activation): Sigmoid()\n",
              "          )\n",
              "          (3): Conv2dNormActivation(\n",
              "            (0): Conv2d(480, 80, kernel_size=(1, 1), stride=(1, 1), bias=False)\n",
              "            (1): BatchNorm2d(80, eps=1e-05, momentum=0.1, affine=True, track_running_stats=True)\n",
              "          )\n",
              "        )\n",
              "        (stochastic_depth): StochasticDepth(p=0.08750000000000001, mode=row)\n",
              "      )\n",
              "    )\n",
              "    (5): Sequential(\n",
              "      (0): MBConv(\n",
              "        (block): Sequential(\n",
              "          (0): Conv2dNormActivation(\n",
              "            (0): Conv2d(80, 480, kernel_size=(1, 1), stride=(1, 1), bias=False)\n",
              "            (1): BatchNorm2d(480, eps=1e-05, momentum=0.1, affine=True, track_running_stats=True)\n",
              "            (2): SiLU(inplace=True)\n",
              "          )\n",
              "          (1): Conv2dNormActivation(\n",
              "            (0): Conv2d(480, 480, kernel_size=(5, 5), stride=(1, 1), padding=(2, 2), groups=480, bias=False)\n",
              "            (1): BatchNorm2d(480, eps=1e-05, momentum=0.1, affine=True, track_running_stats=True)\n",
              "            (2): SiLU(inplace=True)\n",
              "          )\n",
              "          (2): SqueezeExcitation(\n",
              "            (avgpool): AdaptiveAvgPool2d(output_size=1)\n",
              "            (fc1): Conv2d(480, 20, kernel_size=(1, 1), stride=(1, 1))\n",
              "            (fc2): Conv2d(20, 480, kernel_size=(1, 1), stride=(1, 1))\n",
              "            (activation): SiLU(inplace=True)\n",
              "            (scale_activation): Sigmoid()\n",
              "          )\n",
              "          (3): Conv2dNormActivation(\n",
              "            (0): Conv2d(480, 112, kernel_size=(1, 1), stride=(1, 1), bias=False)\n",
              "            (1): BatchNorm2d(112, eps=1e-05, momentum=0.1, affine=True, track_running_stats=True)\n",
              "          )\n",
              "        )\n",
              "        (stochastic_depth): StochasticDepth(p=0.1, mode=row)\n",
              "      )\n",
              "      (1): MBConv(\n",
              "        (block): Sequential(\n",
              "          (0): Conv2dNormActivation(\n",
              "            (0): Conv2d(112, 672, kernel_size=(1, 1), stride=(1, 1), bias=False)\n",
              "            (1): BatchNorm2d(672, eps=1e-05, momentum=0.1, affine=True, track_running_stats=True)\n",
              "            (2): SiLU(inplace=True)\n",
              "          )\n",
              "          (1): Conv2dNormActivation(\n",
              "            (0): Conv2d(672, 672, kernel_size=(5, 5), stride=(1, 1), padding=(2, 2), groups=672, bias=False)\n",
              "            (1): BatchNorm2d(672, eps=1e-05, momentum=0.1, affine=True, track_running_stats=True)\n",
              "            (2): SiLU(inplace=True)\n",
              "          )\n",
              "          (2): SqueezeExcitation(\n",
              "            (avgpool): AdaptiveAvgPool2d(output_size=1)\n",
              "            (fc1): Conv2d(672, 28, kernel_size=(1, 1), stride=(1, 1))\n",
              "            (fc2): Conv2d(28, 672, kernel_size=(1, 1), stride=(1, 1))\n",
              "            (activation): SiLU(inplace=True)\n",
              "            (scale_activation): Sigmoid()\n",
              "          )\n",
              "          (3): Conv2dNormActivation(\n",
              "            (0): Conv2d(672, 112, kernel_size=(1, 1), stride=(1, 1), bias=False)\n",
              "            (1): BatchNorm2d(112, eps=1e-05, momentum=0.1, affine=True, track_running_stats=True)\n",
              "          )\n",
              "        )\n",
              "        (stochastic_depth): StochasticDepth(p=0.1125, mode=row)\n",
              "      )\n",
              "      (2): MBConv(\n",
              "        (block): Sequential(\n",
              "          (0): Conv2dNormActivation(\n",
              "            (0): Conv2d(112, 672, kernel_size=(1, 1), stride=(1, 1), bias=False)\n",
              "            (1): BatchNorm2d(672, eps=1e-05, momentum=0.1, affine=True, track_running_stats=True)\n",
              "            (2): SiLU(inplace=True)\n",
              "          )\n",
              "          (1): Conv2dNormActivation(\n",
              "            (0): Conv2d(672, 672, kernel_size=(5, 5), stride=(1, 1), padding=(2, 2), groups=672, bias=False)\n",
              "            (1): BatchNorm2d(672, eps=1e-05, momentum=0.1, affine=True, track_running_stats=True)\n",
              "            (2): SiLU(inplace=True)\n",
              "          )\n",
              "          (2): SqueezeExcitation(\n",
              "            (avgpool): AdaptiveAvgPool2d(output_size=1)\n",
              "            (fc1): Conv2d(672, 28, kernel_size=(1, 1), stride=(1, 1))\n",
              "            (fc2): Conv2d(28, 672, kernel_size=(1, 1), stride=(1, 1))\n",
              "            (activation): SiLU(inplace=True)\n",
              "            (scale_activation): Sigmoid()\n",
              "          )\n",
              "          (3): Conv2dNormActivation(\n",
              "            (0): Conv2d(672, 112, kernel_size=(1, 1), stride=(1, 1), bias=False)\n",
              "            (1): BatchNorm2d(112, eps=1e-05, momentum=0.1, affine=True, track_running_stats=True)\n",
              "          )\n",
              "        )\n",
              "        (stochastic_depth): StochasticDepth(p=0.125, mode=row)\n",
              "      )\n",
              "    )\n",
              "    (6): Sequential(\n",
              "      (0): MBConv(\n",
              "        (block): Sequential(\n",
              "          (0): Conv2dNormActivation(\n",
              "            (0): Conv2d(112, 672, kernel_size=(1, 1), stride=(1, 1), bias=False)\n",
              "            (1): BatchNorm2d(672, eps=1e-05, momentum=0.1, affine=True, track_running_stats=True)\n",
              "            (2): SiLU(inplace=True)\n",
              "          )\n",
              "          (1): Conv2dNormActivation(\n",
              "            (0): Conv2d(672, 672, kernel_size=(5, 5), stride=(2, 2), padding=(2, 2), groups=672, bias=False)\n",
              "            (1): BatchNorm2d(672, eps=1e-05, momentum=0.1, affine=True, track_running_stats=True)\n",
              "            (2): SiLU(inplace=True)\n",
              "          )\n",
              "          (2): SqueezeExcitation(\n",
              "            (avgpool): AdaptiveAvgPool2d(output_size=1)\n",
              "            (fc1): Conv2d(672, 28, kernel_size=(1, 1), stride=(1, 1))\n",
              "            (fc2): Conv2d(28, 672, kernel_size=(1, 1), stride=(1, 1))\n",
              "            (activation): SiLU(inplace=True)\n",
              "            (scale_activation): Sigmoid()\n",
              "          )\n",
              "          (3): Conv2dNormActivation(\n",
              "            (0): Conv2d(672, 192, kernel_size=(1, 1), stride=(1, 1), bias=False)\n",
              "            (1): BatchNorm2d(192, eps=1e-05, momentum=0.1, affine=True, track_running_stats=True)\n",
              "          )\n",
              "        )\n",
              "        (stochastic_depth): StochasticDepth(p=0.1375, mode=row)\n",
              "      )\n",
              "      (1): MBConv(\n",
              "        (block): Sequential(\n",
              "          (0): Conv2dNormActivation(\n",
              "            (0): Conv2d(192, 1152, kernel_size=(1, 1), stride=(1, 1), bias=False)\n",
              "            (1): BatchNorm2d(1152, eps=1e-05, momentum=0.1, affine=True, track_running_stats=True)\n",
              "            (2): SiLU(inplace=True)\n",
              "          )\n",
              "          (1): Conv2dNormActivation(\n",
              "            (0): Conv2d(1152, 1152, kernel_size=(5, 5), stride=(1, 1), padding=(2, 2), groups=1152, bias=False)\n",
              "            (1): BatchNorm2d(1152, eps=1e-05, momentum=0.1, affine=True, track_running_stats=True)\n",
              "            (2): SiLU(inplace=True)\n",
              "          )\n",
              "          (2): SqueezeExcitation(\n",
              "            (avgpool): AdaptiveAvgPool2d(output_size=1)\n",
              "            (fc1): Conv2d(1152, 48, kernel_size=(1, 1), stride=(1, 1))\n",
              "            (fc2): Conv2d(48, 1152, kernel_size=(1, 1), stride=(1, 1))\n",
              "            (activation): SiLU(inplace=True)\n",
              "            (scale_activation): Sigmoid()\n",
              "          )\n",
              "          (3): Conv2dNormActivation(\n",
              "            (0): Conv2d(1152, 192, kernel_size=(1, 1), stride=(1, 1), bias=False)\n",
              "            (1): BatchNorm2d(192, eps=1e-05, momentum=0.1, affine=True, track_running_stats=True)\n",
              "          )\n",
              "        )\n",
              "        (stochastic_depth): StochasticDepth(p=0.15000000000000002, mode=row)\n",
              "      )\n",
              "      (2): MBConv(\n",
              "        (block): Sequential(\n",
              "          (0): Conv2dNormActivation(\n",
              "            (0): Conv2d(192, 1152, kernel_size=(1, 1), stride=(1, 1), bias=False)\n",
              "            (1): BatchNorm2d(1152, eps=1e-05, momentum=0.1, affine=True, track_running_stats=True)\n",
              "            (2): SiLU(inplace=True)\n",
              "          )\n",
              "          (1): Conv2dNormActivation(\n",
              "            (0): Conv2d(1152, 1152, kernel_size=(5, 5), stride=(1, 1), padding=(2, 2), groups=1152, bias=False)\n",
              "            (1): BatchNorm2d(1152, eps=1e-05, momentum=0.1, affine=True, track_running_stats=True)\n",
              "            (2): SiLU(inplace=True)\n",
              "          )\n",
              "          (2): SqueezeExcitation(\n",
              "            (avgpool): AdaptiveAvgPool2d(output_size=1)\n",
              "            (fc1): Conv2d(1152, 48, kernel_size=(1, 1), stride=(1, 1))\n",
              "            (fc2): Conv2d(48, 1152, kernel_size=(1, 1), stride=(1, 1))\n",
              "            (activation): SiLU(inplace=True)\n",
              "            (scale_activation): Sigmoid()\n",
              "          )\n",
              "          (3): Conv2dNormActivation(\n",
              "            (0): Conv2d(1152, 192, kernel_size=(1, 1), stride=(1, 1), bias=False)\n",
              "            (1): BatchNorm2d(192, eps=1e-05, momentum=0.1, affine=True, track_running_stats=True)\n",
              "          )\n",
              "        )\n",
              "        (stochastic_depth): StochasticDepth(p=0.1625, mode=row)\n",
              "      )\n",
              "      (3): MBConv(\n",
              "        (block): Sequential(\n",
              "          (0): Conv2dNormActivation(\n",
              "            (0): Conv2d(192, 1152, kernel_size=(1, 1), stride=(1, 1), bias=False)\n",
              "            (1): BatchNorm2d(1152, eps=1e-05, momentum=0.1, affine=True, track_running_stats=True)\n",
              "            (2): SiLU(inplace=True)\n",
              "          )\n",
              "          (1): Conv2dNormActivation(\n",
              "            (0): Conv2d(1152, 1152, kernel_size=(5, 5), stride=(1, 1), padding=(2, 2), groups=1152, bias=False)\n",
              "            (1): BatchNorm2d(1152, eps=1e-05, momentum=0.1, affine=True, track_running_stats=True)\n",
              "            (2): SiLU(inplace=True)\n",
              "          )\n",
              "          (2): SqueezeExcitation(\n",
              "            (avgpool): AdaptiveAvgPool2d(output_size=1)\n",
              "            (fc1): Conv2d(1152, 48, kernel_size=(1, 1), stride=(1, 1))\n",
              "            (fc2): Conv2d(48, 1152, kernel_size=(1, 1), stride=(1, 1))\n",
              "            (activation): SiLU(inplace=True)\n",
              "            (scale_activation): Sigmoid()\n",
              "          )\n",
              "          (3): Conv2dNormActivation(\n",
              "            (0): Conv2d(1152, 192, kernel_size=(1, 1), stride=(1, 1), bias=False)\n",
              "            (1): BatchNorm2d(192, eps=1e-05, momentum=0.1, affine=True, track_running_stats=True)\n",
              "          )\n",
              "        )\n",
              "        (stochastic_depth): StochasticDepth(p=0.17500000000000002, mode=row)\n",
              "      )\n",
              "    )\n",
              "    (7): Sequential(\n",
              "      (0): MBConv(\n",
              "        (block): Sequential(\n",
              "          (0): Conv2dNormActivation(\n",
              "            (0): Conv2d(192, 1152, kernel_size=(1, 1), stride=(1, 1), bias=False)\n",
              "            (1): BatchNorm2d(1152, eps=1e-05, momentum=0.1, affine=True, track_running_stats=True)\n",
              "            (2): SiLU(inplace=True)\n",
              "          )\n",
              "          (1): Conv2dNormActivation(\n",
              "            (0): Conv2d(1152, 1152, kernel_size=(3, 3), stride=(1, 1), padding=(1, 1), groups=1152, bias=False)\n",
              "            (1): BatchNorm2d(1152, eps=1e-05, momentum=0.1, affine=True, track_running_stats=True)\n",
              "            (2): SiLU(inplace=True)\n",
              "          )\n",
              "          (2): SqueezeExcitation(\n",
              "            (avgpool): AdaptiveAvgPool2d(output_size=1)\n",
              "            (fc1): Conv2d(1152, 48, kernel_size=(1, 1), stride=(1, 1))\n",
              "            (fc2): Conv2d(48, 1152, kernel_size=(1, 1), stride=(1, 1))\n",
              "            (activation): SiLU(inplace=True)\n",
              "            (scale_activation): Sigmoid()\n",
              "          )\n",
              "          (3): Conv2dNormActivation(\n",
              "            (0): Conv2d(1152, 320, kernel_size=(1, 1), stride=(1, 1), bias=False)\n",
              "            (1): BatchNorm2d(320, eps=1e-05, momentum=0.1, affine=True, track_running_stats=True)\n",
              "          )\n",
              "        )\n",
              "        (stochastic_depth): StochasticDepth(p=0.1875, mode=row)\n",
              "      )\n",
              "    )\n",
              "    (8): Conv2dNormActivation(\n",
              "      (0): Conv2d(320, 1280, kernel_size=(1, 1), stride=(1, 1), bias=False)\n",
              "      (1): BatchNorm2d(1280, eps=1e-05, momentum=0.1, affine=True, track_running_stats=True)\n",
              "      (2): SiLU(inplace=True)\n",
              "    )\n",
              "  )\n",
              "  (avgpool): AdaptiveAvgPool2d(output_size=1)\n",
              "  (classifier): Sequential(\n",
              "    (0): Dropout(p=0.2, inplace=True)\n",
              "    (1): Linear(in_features=1280, out_features=1000, bias=True)\n",
              "  )\n",
              ")"
            ]
          },
          "metadata": {},
          "execution_count": 11
        }
      ],
      "source": [
        "efficientnet_b0"
      ]
    },
    {
      "cell_type": "code",
      "execution_count": null,
      "metadata": {
        "colab": {
          "base_uri": "https://localhost:8080/"
        },
        "id": "5mw47bTyfp4x",
        "outputId": "74bf6aa4-35b8-459c-eb51-741dc5325ecc"
      },
      "outputs": [
        {
          "output_type": "execute_result",
          "data": {
            "text/plain": [
              "5288548"
            ]
          },
          "metadata": {},
          "execution_count": 12
        }
      ],
      "source": [
        "model_parameters = filter(lambda p: p.requires_grad, efficientnet_b0.parameters())\n",
        "params = sum([np.prod(p.size()) for p in model_parameters])\n",
        "params"
      ]
    },
    {
      "cell_type": "code",
      "execution_count": null,
      "metadata": {
        "colab": {
          "base_uri": "https://localhost:8080/"
        },
        "id": "RuBfPLtqftbq",
        "outputId": "0e10c526-e23a-4632-f6da-9c0c26954b76"
      },
      "outputs": [
        {
          "output_type": "execute_result",
          "data": {
            "text/plain": [
              "1000"
            ]
          },
          "metadata": {},
          "execution_count": 13
        }
      ],
      "source": [
        "out = efficientnet_b0(torch.randn((1,3,512,512)))\n",
        "len(out[0])"
      ]
    },
    {
      "cell_type": "code",
      "execution_count": null,
      "metadata": {
        "colab": {
          "base_uri": "https://localhost:8080/"
        },
        "id": "1jqyzxJZfyAQ",
        "outputId": "ca263f5f-17e8-4166-ca3c-fba3772662b0"
      },
      "outputs": [
        {
          "output_type": "execute_result",
          "data": {
            "text/plain": [
              "tensor([[-2.6817e-01, -5.2940e-02, -3.2159e-01, -1.1753e-01, -2.7741e-01,\n",
              "          5.5948e-01, -2.7985e-01, -1.1448e-01,  2.2973e-02,  1.7279e-02,\n",
              "         -1.1561e-01,  2.5404e-02, -1.2456e-01, -1.1565e-01, -3.0263e-01,\n",
              "         -3.4982e-02, -2.2549e-01, -1.5535e-01, -1.3263e-01, -1.2926e-01,\n",
              "         -5.2805e-01, -3.3250e-01, -4.4504e-01, -4.7403e-01, -2.3714e-01,\n",
              "         -5.2113e-01, -5.0976e-01,  2.3945e-03, -1.5497e-01, -7.2515e-01,\n",
              "         -3.2337e-01, -6.1508e-02,  1.7888e-01, -1.2920e-01, -2.8481e-01,\n",
              "         -1.5853e-01,  2.3592e-01,  3.6787e-02, -1.8083e-01,  9.3670e-02,\n",
              "         -1.4057e-01,  3.7923e-02, -5.6863e-01,  1.2553e-02, -2.7906e-01,\n",
              "          1.5777e-01, -4.4018e-01, -1.7310e-02, -6.6380e-01, -4.4203e-01,\n",
              "          6.3062e-03, -1.4210e-01, -4.3451e-02,  5.0408e-01,  8.5376e-02,\n",
              "         -1.5452e-01,  4.5468e-03,  8.8243e-02,  4.6852e-02, -6.0971e-02,\n",
              "          2.2499e-01, -3.4098e-02, -4.5061e-02,  1.7493e-01, -1.5686e-01,\n",
              "         -2.4661e-01,  2.3011e-01,  3.5525e-02,  3.3054e-02, -3.4565e-01,\n",
              "         -1.2345e-01,  1.1546e-01, -2.1430e-01, -3.8468e-01, -2.8513e-01,\n",
              "          2.5305e-01, -2.2693e-01, -2.2360e-01,  1.7072e-01,  7.5775e-02,\n",
              "          5.5519e-02,  7.2567e-02,  8.3671e-02, -2.7702e-01, -2.1876e-01,\n",
              "          2.1172e-01,  5.1958e-02,  9.0633e-02, -4.2630e-01, -1.7349e-01,\n",
              "         -2.5361e-01,  8.2214e-02, -4.5741e-01, -1.6249e-01, -2.9727e-01,\n",
              "         -4.4273e-01, -9.0793e-03, -8.8935e-02,  4.0131e-03, -5.2594e-02,\n",
              "         -1.5574e-01, -4.8835e-01, -3.3976e-02,  1.7115e-01,  3.0794e-02,\n",
              "          7.8334e-02,  7.4649e-02, -1.7560e-01, -2.5137e-01, -3.0979e-02,\n",
              "         -1.0886e-01, -1.7048e-01, -1.9462e-02,  4.2130e-01, -1.5542e-01,\n",
              "         -3.2131e-01, -3.9353e-01, -2.3592e-01,  3.2619e-01, -5.4225e-04,\n",
              "          4.6164e-02, -5.1460e-02,  3.8421e-01,  2.1551e-02,  8.5797e-02,\n",
              "         -8.9931e-02,  1.1549e-01, -3.5475e-01, -4.5063e-01, -4.3912e-01,\n",
              "         -3.4546e-01, -1.3023e-01,  2.0007e-01, -1.4570e-01,  1.9904e-01,\n",
              "         -3.8800e-01,  2.0409e-01, -1.7481e-02, -2.8959e-01, -6.2968e-02,\n",
              "         -1.4660e-01, -3.1726e-01, -3.6703e-01, -4.4009e-01, -2.3287e-01,\n",
              "         -6.8622e-02, -2.9389e-01,  2.1384e-02, -2.7977e-01, -5.8135e-02,\n",
              "          1.9339e-01,  2.7761e-01, -1.5472e-01, -2.8202e-01, -1.2362e-01,\n",
              "         -3.2923e-02, -2.5368e-01,  3.2459e-01,  2.3179e-01,  3.9055e-01,\n",
              "          1.4131e-01,  1.4607e-01,  1.5592e-01,  1.7945e-01,  1.2241e-01,\n",
              "         -1.4857e-01, -4.7050e-02, -8.4974e-02,  2.2585e-02, -1.4061e-01,\n",
              "         -1.0478e-01,  4.1487e-02,  2.7978e-01, -1.3363e-01,  4.1409e-01,\n",
              "         -1.1654e-01, -2.4282e-01, -1.5067e-01,  2.0521e-01, -4.1021e-02,\n",
              "         -1.5278e-01,  2.7169e-01, -7.8657e-02, -2.9765e-01, -2.5753e-01,\n",
              "         -8.0487e-02,  1.5283e-01,  8.7499e-02,  2.2795e-01,  3.6098e-02,\n",
              "         -9.1255e-02, -4.3894e-01, -1.3768e-01, -5.4135e-02, -8.4003e-02,\n",
              "          4.6555e-02, -2.7932e-01, -2.6582e-01, -1.1123e-01, -7.1054e-02,\n",
              "          1.2610e-01,  8.3087e-02, -5.7706e-02, -4.5071e-01, -3.5784e-01,\n",
              "          7.4473e-02, -5.9474e-02, -5.1575e-01, -1.8980e-01, -4.5530e-02,\n",
              "          1.4322e-01,  2.3383e-01, -1.4744e-02, -2.0408e-01,  4.4850e-02,\n",
              "         -2.8777e-01, -2.1482e-01, -2.4048e-01, -2.1809e-01, -4.5569e-02,\n",
              "         -3.2684e-01,  1.4449e-02, -2.5925e-01, -4.7099e-02,  1.7698e-01,\n",
              "          1.7157e-01, -3.5664e-01, -9.2357e-02, -2.3538e-01, -1.7397e-01,\n",
              "         -1.6808e-01, -3.0559e-01, -3.3599e-02,  2.7499e-02, -1.6404e-01,\n",
              "         -5.1232e-03,  1.0269e-01,  3.0611e-01,  3.3784e-02,  2.0549e-01,\n",
              "          4.2821e-01, -1.0028e-01, -1.5954e-02, -4.0738e-02,  2.1012e-01,\n",
              "          2.8200e-01,  1.3924e-01, -2.9996e-01, -2.7041e-01, -7.5476e-02,\n",
              "         -2.1845e-02,  4.4877e-01, -3.0456e-02,  2.1724e-01,  1.1518e-01,\n",
              "         -1.6166e-01, -2.5329e-01, -3.5950e-02, -3.1557e-02, -2.0161e-01,\n",
              "          2.0032e-01, -1.0771e-01,  2.6637e-01, -3.3875e-01, -1.1918e-01,\n",
              "          2.7635e-03, -3.9132e-01,  1.8373e-02,  2.5482e-01, -2.8176e-01,\n",
              "         -4.0182e-01, -3.1958e-02, -3.3134e-01, -1.9921e-01, -4.1063e-01,\n",
              "         -4.1900e-01, -2.1997e-01, -3.5282e-01, -5.6359e-01, -4.4844e-01,\n",
              "         -4.5241e-01,  4.1166e-01, -9.9168e-02,  2.1221e-01,  7.9596e-02,\n",
              "          1.5396e-01,  1.2259e-02, -1.6918e-01, -5.0404e-01, -2.8166e-01,\n",
              "         -2.6135e-01, -3.3237e-01,  1.4465e-01, -4.4814e-01, -9.7748e-02,\n",
              "         -2.9349e-01,  3.6226e-02, -1.6320e-01, -1.8680e-01, -2.0087e-01,\n",
              "         -7.3218e-02, -1.1158e-01,  9.4700e-02, -4.1697e-01, -4.4417e-01,\n",
              "         -2.3863e-01, -5.2699e-02, -2.0933e-01,  1.9663e-01, -2.6851e-01,\n",
              "         -2.4974e-02, -1.8852e-01, -1.3191e-01,  7.5122e-02,  5.1491e-01,\n",
              "         -7.0337e-02, -5.5622e-01, -3.0463e-01, -4.8081e-01, -2.7286e-01,\n",
              "         -2.8936e-01, -1.7619e-01, -5.3916e-02, -3.1580e-01, -4.7110e-01,\n",
              "         -1.2242e-01, -2.8814e-01, -4.4276e-01,  1.9437e-01, -4.2460e-01,\n",
              "          3.3829e-01, -1.6666e-01,  9.1046e-02, -8.4917e-02,  1.8907e-01,\n",
              "         -2.9092e-01, -2.2796e-01,  5.4601e-01,  4.4939e-02,  4.9043e-02,\n",
              "          7.2197e-02,  9.5108e-02,  4.0189e-02, -1.9763e-02, -1.8065e-02,\n",
              "          1.2301e-01, -1.9883e-01, -2.4859e-01, -3.7191e-01, -2.8082e-01,\n",
              "         -1.8638e-01, -5.8894e-01, -1.5498e-01, -6.7090e-02, -2.9981e-02,\n",
              "          6.2245e-02,  1.9842e-01, -3.5497e-01,  2.7100e-02,  1.2880e-02,\n",
              "         -9.8706e-02, -7.2316e-02, -4.5393e-01, -1.6983e-01, -3.2018e-01,\n",
              "          2.8420e-01, -7.6709e-02, -3.1430e-01,  3.5407e-03,  1.3195e-01,\n",
              "         -4.2431e-02,  1.9771e-01, -4.5313e-02,  1.5745e-01, -4.1788e-01,\n",
              "         -3.2259e-01,  6.9095e-02, -5.9140e-01, -3.0626e-01, -6.7682e-03,\n",
              "         -1.6727e-01, -4.2543e-02, -7.2468e-02, -2.4070e-01, -7.7039e-02,\n",
              "         -1.9736e-02,  3.8646e-02, -3.4176e-01, -1.1390e-01, -2.5285e-01,\n",
              "          9.4437e-03, -1.3919e-01,  1.8449e-01, -3.1175e-01, -3.4133e-01,\n",
              "         -2.7334e-01,  1.7260e-01, -8.2258e-02, -2.0015e-01, -3.8713e-01,\n",
              "         -1.9541e-01, -1.1542e-01, -2.7307e-01, -1.8395e-01, -3.5696e-02,\n",
              "         -8.4555e-06, -2.4480e-01, -1.6498e-01, -2.2156e-01,  1.2392e-01,\n",
              "         -2.6921e-01, -2.3358e-02,  2.3920e-01, -1.4367e-01, -2.2788e-02,\n",
              "         -2.8075e-01, -4.8252e-01, -1.1469e-01,  1.4982e-01,  7.5073e-02,\n",
              "          1.0631e-02,  3.1540e-01, -6.1519e-01, -1.7895e-01,  1.4791e-01,\n",
              "         -2.9512e-01, -9.9814e-02,  1.5448e-01,  4.9085e-01, -4.7400e-01,\n",
              "         -1.2202e-01, -1.1838e-01, -7.6545e-02, -3.1146e-01, -1.3276e-01,\n",
              "          2.1290e-01, -3.2211e-01, -2.6926e-01, -1.8923e-01,  2.1700e-01,\n",
              "          2.6196e-01, -3.4018e-01, -6.5176e-01, -4.8516e-01, -4.8123e-01,\n",
              "         -9.3088e-02,  1.2085e-01,  5.8937e-01,  4.3838e-02, -3.3691e-01,\n",
              "         -1.5219e-01,  1.0048e-01,  2.5184e-02,  1.0328e-01, -6.1959e-02,\n",
              "         -2.8292e-01,  2.5889e-01,  1.4296e-01,  1.4705e-01, -4.0697e-02,\n",
              "         -7.1296e-01,  1.2250e-01, -2.1088e-01,  3.8727e-01,  4.9769e-01,\n",
              "         -2.9839e-01, -1.0672e-03, -3.4334e-01,  1.7532e-01,  1.2821e-01,\n",
              "         -1.5698e-01, -2.8333e-01, -2.8572e-01, -4.5582e-01, -1.0341e-01,\n",
              "         -3.2142e-02, -6.0033e-01,  5.5104e-02, -3.6046e-02,  1.3339e-02,\n",
              "         -3.1723e-01, -5.9440e-02, -1.2184e-01, -2.4194e-01, -3.1942e-01,\n",
              "         -1.8107e-01, -4.3137e-01, -3.0604e-01, -1.4530e-01,  6.6268e-02,\n",
              "          2.5669e-01, -9.1968e-02,  2.7132e-01, -1.0267e-01, -1.6630e-01,\n",
              "         -7.1621e-02, -2.9236e-01, -4.4311e-01, -1.9874e-01,  6.0979e-02,\n",
              "         -1.7647e-01,  1.1498e-01,  8.5616e-03, -3.6684e-01, -3.3204e-01,\n",
              "         -1.7096e-01, -4.0009e-01, -1.4695e-01,  7.3275e-02, -1.5516e-01,\n",
              "         -1.9574e-01, -4.6418e-01, -1.7119e-01,  3.1129e-01,  6.0769e-02,\n",
              "         -8.3486e-02, -4.2648e-01,  1.2234e-01,  3.8182e-01,  7.9707e-02,\n",
              "         -1.3199e-01,  1.9945e-01, -5.0304e-01,  2.1382e-01,  2.1720e-02,\n",
              "         -8.4667e-02, -3.0399e-01, -1.5405e-01, -1.7079e-01, -2.9783e-01,\n",
              "          4.2380e-01,  7.3254e-02,  2.2988e-01, -7.4712e-02, -1.4623e-01,\n",
              "          1.9495e-01,  1.0995e-01, -3.8911e-01,  3.4854e-02, -4.9574e-02,\n",
              "         -1.9894e-01, -2.5578e-01, -3.4517e-01,  4.8795e-03, -3.1057e-01,\n",
              "         -2.6944e-01,  1.2953e-01,  4.3612e-02,  5.2035e-02, -2.7038e-01,\n",
              "         -3.3784e-01,  1.2486e-01, -1.8761e-01,  2.3369e-01,  6.4514e-02,\n",
              "         -3.3396e-01,  5.5609e-01,  3.0889e-01,  1.2413e-01,  8.6820e-02,\n",
              "         -3.4194e-01, -1.4324e-01,  3.6426e-01, -1.5401e-01, -3.9235e-01,\n",
              "         -2.4552e-01,  7.3338e-02,  1.5755e-02,  1.9692e-02, -1.1297e-01,\n",
              "         -2.7850e-02, -3.5048e-01,  4.7813e-02, -5.5476e-01, -1.4725e-01,\n",
              "         -2.7938e-01, -3.3032e-01,  6.8289e-02, -2.4484e-01, -1.0855e-01,\n",
              "         -6.6310e-02,  2.1164e-02, -4.1077e-01,  6.5985e-02, -4.8926e-01,\n",
              "         -1.8327e-03, -1.4514e-01,  1.8947e-02,  1.7945e-01, -2.5322e-01,\n",
              "         -2.0026e-01, -1.4160e-01, -3.0598e-01,  1.0212e-01, -2.0758e-01,\n",
              "         -4.7239e-01,  3.2056e-02, -1.6023e-01,  4.5272e-02, -2.6631e-01,\n",
              "          3.1139e-01, -2.9923e-01, -1.3186e-01, -1.7241e-01, -1.9436e-01,\n",
              "         -5.3892e-01,  1.8018e-01, -5.2530e-01, -1.6279e-01, -2.5717e-01,\n",
              "          2.0833e-02, -1.1352e-01, -2.0545e-01,  1.7913e-01, -3.0494e-01,\n",
              "         -6.3718e-01, -3.8507e-01, -5.0502e-03,  3.1898e-01,  1.8479e-01,\n",
              "          2.8792e-02, -4.8139e-01,  1.5772e-01, -5.6089e-02, -2.7308e-01,\n",
              "         -1.8737e-01, -4.1703e-02, -4.8976e-01,  3.6243e-01, -5.3982e-01,\n",
              "         -1.5523e-01, -1.7630e-02,  4.8422e-01, -2.4542e-01, -2.8982e-01,\n",
              "          9.9146e-02,  3.8841e-01,  4.5328e-01,  4.6710e-02,  1.5796e-01,\n",
              "         -2.1428e-01, -4.0997e-02,  2.1442e-02,  2.0767e-01, -1.5348e-01,\n",
              "         -5.0318e-01, -1.7475e-01,  1.8910e-01,  1.0217e-01, -2.5502e-01,\n",
              "         -2.0758e-01, -3.7465e-04,  1.2689e-02, -4.7243e-01,  3.4580e-01,\n",
              "         -1.4834e-01,  2.2333e-01,  5.3947e-02, -1.2291e-01,  2.4749e-01,\n",
              "         -1.2443e-01, -3.9929e-01, -7.1654e-01, -2.5730e-01,  1.2570e-01,\n",
              "         -1.8215e-01, -7.3860e-02,  2.8381e-01,  6.0164e-02, -3.3779e-01,\n",
              "         -3.2792e-01, -9.2988e-02, -2.3371e-01,  1.5426e-01,  2.6277e-01,\n",
              "         -2.1911e-01,  5.7675e-02, -4.2624e-01,  9.3136e-02, -6.9572e-01,\n",
              "         -1.9472e-01,  1.9301e-01,  1.0934e-01,  3.7339e-02,  3.5626e-01,\n",
              "         -2.2854e-01, -6.4164e-01,  3.3707e-02, -2.8741e-01, -1.4083e-01,\n",
              "         -4.3838e-01, -5.4602e-02,  2.2635e-02, -1.3405e-01, -4.8284e-01,\n",
              "         -1.0544e-01, -1.2477e-01, -3.6990e-01, -2.1589e-01,  1.5639e-01,\n",
              "          3.0187e-02, -2.9055e-01, -1.0500e-01, -3.5346e-02,  9.0753e-02,\n",
              "         -1.2052e-01, -3.7124e-01,  7.5078e-02,  4.0113e-01, -3.1837e-01,\n",
              "          1.9951e-01,  1.8107e-01, -3.0644e-01, -2.8711e-01,  1.0624e-02,\n",
              "         -1.5911e-01,  7.8098e-02, -2.5412e-01,  1.6082e-01, -8.6269e-02,\n",
              "         -2.6176e-01,  3.1739e-01, -9.0878e-02, -3.6252e-01, -2.9883e-02,\n",
              "          2.5883e-01, -1.1555e-02, -9.6557e-02,  3.9488e-01, -1.2445e-01,\n",
              "         -1.9650e-01,  7.3216e-01, -1.6579e-01,  2.4387e-01, -4.3867e-01,\n",
              "         -3.1818e-01, -6.2417e-01, -4.6690e-01,  3.8056e-01, -2.9147e-01,\n",
              "         -1.3892e-01, -7.6288e-02,  1.8160e-01, -1.8345e-01, -7.1842e-02,\n",
              "         -2.7729e-01, -8.5146e-02, -2.1644e-01,  2.9311e-01,  2.4237e-01,\n",
              "          1.2616e-01, -1.2520e-01, -5.3137e-01, -1.6544e-01, -6.8683e-02,\n",
              "         -4.5506e-01, -3.3118e-01, -1.6641e-02, -4.3310e-01,  1.5301e-01,\n",
              "          9.4257e-02,  6.9755e-02, -2.5662e-01,  1.5893e-01,  4.6814e-01,\n",
              "          2.4091e-01, -2.5994e-01, -2.3203e-01, -4.7347e-01,  2.5176e-01,\n",
              "         -1.7504e-01, -1.8890e-01,  6.8364e-03, -1.6512e-01, -6.8870e-02,\n",
              "          4.0920e-02,  2.3664e-01, -2.1021e-01,  8.4257e-02, -1.8505e-01,\n",
              "         -4.5839e-02, -3.0243e-01,  2.4119e-01, -2.8940e-01, -1.9656e-01,\n",
              "         -3.6130e-01, -3.1890e-01,  1.4558e-01, -2.0226e-01, -8.1479e-02,\n",
              "          8.6283e-02,  1.1279e-01, -1.7144e-02, -1.3657e-01,  1.5219e-01,\n",
              "         -2.2547e-01,  7.3152e-02,  7.2430e-03, -3.3029e-01, -4.4943e-02,\n",
              "         -2.8655e-01, -1.5918e-01, -5.4902e-01,  3.1891e-02,  3.2756e-01,\n",
              "         -2.7952e-01, -2.7203e-02,  1.8951e-01,  2.8079e-02,  8.2065e-02,\n",
              "          4.1254e-02,  2.0521e-01, -4.8396e-01,  3.7247e-01,  1.9142e-02,\n",
              "         -6.4634e-03, -3.2582e-01, -5.4841e-02,  4.1929e-01,  2.3694e-01,\n",
              "         -2.6306e-01,  7.0374e-03, -3.2965e-01,  6.1820e-02,  4.4756e-01,\n",
              "         -1.7367e-01,  7.9906e-03, -3.0936e-01,  5.1032e-03, -1.5110e-01,\n",
              "         -2.9087e-01,  4.6114e-02,  1.7264e-01, -3.6164e-01, -1.1490e-01,\n",
              "         -4.0829e-01,  4.0760e-01,  3.6610e-01,  1.2888e-01, -2.3331e-01,\n",
              "         -2.0614e-01, -2.9551e-01,  1.0228e-02, -2.9046e-01, -3.7584e-01,\n",
              "          1.2555e-01,  2.3283e-01, -2.0322e-01,  2.4207e-01,  1.9583e-01,\n",
              "          1.0744e-01,  5.3019e-01, -1.4210e-01, -8.8011e-03, -3.6007e-01,\n",
              "          1.8045e-01, -5.2895e-01, -3.8112e-02, -4.6936e-01,  3.8305e-01,\n",
              "         -1.3384e-01, -5.0705e-02, -3.2688e-01, -4.7731e-01, -4.8048e-01,\n",
              "         -3.2021e-01, -1.7666e-01, -6.2697e-02,  2.6000e-01, -3.5873e-01,\n",
              "         -5.7740e-02, -5.9421e-02, -1.1881e-01,  7.3221e-02, -1.4788e-01,\n",
              "         -2.5683e-02,  4.3250e-01, -3.0820e-01, -1.8703e-01,  1.9528e-01,\n",
              "         -8.4755e-02, -3.8867e-01,  1.3414e-02,  6.8887e-02, -1.8552e-01,\n",
              "         -6.1276e-01, -4.4324e-01,  2.3437e-01, -3.2675e-01,  1.2249e-01,\n",
              "         -3.4520e-01,  2.5733e-02,  7.5071e-02, -3.6343e-02, -1.9703e-01,\n",
              "         -1.8415e-02,  1.0290e-01, -6.1607e-02,  1.8918e-01,  8.6262e-01,\n",
              "         -2.7714e-01, -2.2596e-01, -8.5652e-03, -1.2119e-01,  5.0103e-01,\n",
              "          1.9266e-01, -9.6427e-02, -8.2473e-02, -2.7124e-01,  1.7311e-01,\n",
              "         -5.5074e-02, -2.3309e-01,  4.3720e-02, -4.7346e-01, -1.1712e-01,\n",
              "         -3.8279e-01, -3.5624e-01,  4.9997e-01,  3.1521e-02,  1.2053e-01,\n",
              "         -1.1933e-01,  2.1690e-01,  1.6301e-01,  2.5749e-01,  5.2003e-02,\n",
              "         -1.3626e-01, -1.1922e-01, -3.6430e-01,  4.8271e-02,  3.3968e-02,\n",
              "          1.5631e-02, -3.0021e-01, -5.4066e-01,  9.7586e-02, -2.8532e-02,\n",
              "          3.3057e-01, -1.9766e-01,  1.8414e-01,  1.3448e-01, -4.0857e-01,\n",
              "         -2.1497e-01,  7.0158e-02, -2.6911e-01, -3.2215e-01, -4.1354e-01,\n",
              "          1.1188e-01,  2.9921e-02, -5.7454e-02,  2.6816e-01, -2.9919e-01,\n",
              "         -2.6606e-01,  3.5401e-02, -3.7806e-01,  1.0731e-01, -3.0629e-02,\n",
              "         -1.5628e-01,  6.6151e-01, -5.1509e-01,  1.4439e-01, -7.2116e-02,\n",
              "         -8.7982e-02, -3.1555e-01,  4.0099e-01, -1.4274e-01, -2.7172e-01,\n",
              "          3.7838e-01, -4.0753e-01, -8.2181e-01,  9.5830e-02, -5.0503e-01,\n",
              "          3.2466e-01,  1.5310e-01, -3.0659e-01, -1.3644e-01, -1.2171e-01,\n",
              "         -2.1960e-01, -3.8502e-01, -4.2715e-01, -1.8080e-01, -1.8878e-01,\n",
              "          1.4872e-01, -3.7351e-01,  1.1079e-01, -1.8570e-01, -3.5622e-01,\n",
              "         -2.1809e-01, -2.9005e-01,  2.4762e-01, -1.9533e-01, -4.2060e-01,\n",
              "         -2.4889e-01,  2.2476e-01, -1.7015e-01,  2.0433e-01,  1.8819e-01,\n",
              "         -1.2353e-01,  2.4068e-01,  1.7722e-01, -6.4326e-02, -4.4562e-02]],\n",
              "       grad_fn=<AddmmBackward0>)"
            ]
          },
          "metadata": {},
          "execution_count": 14
        }
      ],
      "source": [
        "out"
      ]
    },
    {
      "cell_type": "code",
      "execution_count": null,
      "metadata": {
        "colab": {
          "base_uri": "https://localhost:8080/"
        },
        "id": "j5Tsd2x1f9Ey",
        "outputId": "2cf9dbf8-f5bb-479c-c866-64d03f2fab47"
      },
      "outputs": [
        {
          "output_type": "execute_result",
          "data": {
            "text/plain": [
              "2410392"
            ]
          },
          "metadata": {},
          "execution_count": 15
        }
      ],
      "source": [
        "for param in efficientnet_b0.features[:7].parameters():\n",
        "    param.requires_grad = False\n",
        "\n",
        "model_parameters = filter(lambda p: p.requires_grad, efficientnet_b0.parameters())\n",
        "params = sum([np.prod(p.size()) for p in model_parameters])\n",
        "params"
      ]
    },
    {
      "cell_type": "code",
      "execution_count": null,
      "metadata": {
        "colab": {
          "base_uri": "https://localhost:8080/"
        },
        "id": "FESV7qzMgGAM",
        "outputId": "3c467dae-4f04-4a37-f2bf-5eaeddaa0441"
      },
      "outputs": [
        {
          "output_type": "execute_result",
          "data": {
            "text/plain": [
              "{'train': 112, 'val': 28}"
            ]
          },
          "metadata": {},
          "execution_count": 16
        }
      ],
      "source": [
        "from torch.utils.data.dataloader import DataLoader\n",
        "\n",
        "batch_size=32\n",
        "train_dl = DataLoader(train_ds, batch_size, shuffle=True, num_workers=2, pin_memory=True)\n",
        "val_dl = DataLoader(val_ds, batch_size*2, num_workers=2, pin_memory=True)\n",
        "dataloaders = {'train':train_dl, 'val':val_dl}\n",
        "dataset_sizes = {'train': len(train_ds), 'val': len(val_ds)}\n",
        "dataset_sizes"
      ]
    },
    {
      "cell_type": "code",
      "execution_count": null,
      "metadata": {
        "colab": {
          "base_uri": "https://localhost:8080/"
        },
        "id": "tDJkyer5gN5j",
        "outputId": "b5db3fca-1d63-4d93-9e97-6705381fc378"
      },
      "outputs": [
        {
          "output_type": "execute_result",
          "data": {
            "text/plain": [
              "device(type='cpu')"
            ]
          },
          "metadata": {},
          "execution_count": 17
        }
      ],
      "source": [
        "device = torch.device(\"cuda:0\" if torch.cuda.is_available() else \"cpu\")\n",
        "device"
      ]
    },
    {
      "cell_type": "code",
      "execution_count": null,
      "metadata": {
        "id": "Q9h8FklMgSTg"
      },
      "outputs": [],
      "source": [
        "model = efficientnet_b0.to(device)\n",
        "optimizer = torch.optim.SGD(model.parameters(), lr=0.01, momentum=0.9)"
      ]
    },
    {
      "cell_type": "code",
      "execution_count": null,
      "metadata": {
        "id": "Gx1-uyD2gfGi"
      },
      "outputs": [],
      "source": [
        "# Fn for the training loop\n",
        "def train_model(model, optimizer, alpha=1, beta=1, num_epochs=10):\n",
        "    since = time.time()\n",
        "    \n",
        "    best_model_wts = copy.deepcopy(model.state_dict())\n",
        "    best_acc = 0.0\n",
        "    \n",
        "    for epoch in range(num_epochs):\n",
        "        print('Epoch {}/{}'.format(epoch+1, num_epochs))\n",
        "        print(\"-\"*10)\n",
        "        \n",
        "        for phase in ['train', 'val']:\n",
        "            if phase == 'train':\n",
        "                model.train()\n",
        "            if phase == 'val':\n",
        "                model.eval()\n",
        "                \n",
        "            running_loss = 0.0\n",
        "            running_corrects = 0\n",
        "            \n",
        "            for imgs, labels in dataloaders[phase]:\n",
        "                imgs = imgs.to(device)\n",
        "                labels = labels.to(device)\n",
        "                \n",
        "                optimizer.zero_grad()\n",
        "                \n",
        "                with torch.set_grad_enabled(phase == 'train'):\n",
        "                    outputs = model(imgs)\n",
        "                    _, preds = torch.max(outputs, 1)\n",
        "                    loss = F.cross_entropy(outputs, labels)\n",
        "                    \n",
        "                    if phase == 'train':\n",
        "                        loss.backward()\n",
        "                        optimizer.step()\n",
        "                        \n",
        "                running_loss += loss.item() * imgs.size(0)\n",
        "                running_corrects += torch.sum(preds == labels.data)\n",
        "            \n",
        "            epoch_loss = running_loss / dataset_sizes[phase]\n",
        "            epoch_acc = running_corrects.double() / dataset_sizes[phase]\n",
        "            writer.add_scalar(\"Loss/train\", epoch_loss, epoch)\n",
        "            \n",
        "            print('{} Loss: {:.4f} Acc: {:.4f}'.format(phase, epoch_loss, epoch_acc))\n",
        "            \n",
        "            if phase == 'val' and epoch_acc > best_acc:\n",
        "                best_acc = epoch_acc\n",
        "                best_model_wts = copy.deepcopy(model.state_dict())\n",
        "        print()\n",
        "        \n",
        "    time_elapsed = time.time() - since\n",
        "    print('Training complete in {:.0f}m {:.0f}s'.format(time_elapsed // 60, time_elapsed % 60))\n",
        "    print('Best val Acc: {:4f}'.format(best_acc))\n",
        "\n",
        "    # load best model weights\n",
        "    model.load_state_dict(best_model_wts)\n",
        "    return model"
      ]
    },
    {
      "cell_type": "code",
      "execution_count": null,
      "metadata": {
        "colab": {
          "base_uri": "https://localhost:8080/"
        },
        "id": "pmkKzvLpgsE_",
        "outputId": "2bc4d955-9e96-4a8e-d443-f1928b4aca74"
      },
      "outputs": [
        {
          "output_type": "stream",
          "name": "stdout",
          "text": [
            "Epoch 1/10\n",
            "----------\n",
            "train Loss: 6.8770 Acc: 0.0089\n",
            "val Loss: 7.5204 Acc: 0.0000\n",
            "\n",
            "Epoch 2/10\n",
            "----------\n",
            "train Loss: 4.2421 Acc: 0.4464\n",
            "val Loss: 6.5714 Acc: 0.1071\n",
            "\n",
            "Epoch 3/10\n",
            "----------\n",
            "train Loss: 1.7102 Acc: 0.7589\n",
            "val Loss: 4.6290 Acc: 0.4286\n",
            "\n",
            "Epoch 4/10\n",
            "----------\n",
            "train Loss: 0.8218 Acc: 0.8304\n",
            "val Loss: 2.4994 Acc: 0.7143\n",
            "\n",
            "Epoch 5/10\n",
            "----------\n",
            "train Loss: 0.4670 Acc: 0.8750\n",
            "val Loss: 1.2620 Acc: 0.8929\n",
            "\n",
            "Epoch 6/10\n",
            "----------\n",
            "train Loss: 0.2999 Acc: 0.9196\n",
            "val Loss: 0.6543 Acc: 0.8929\n",
            "\n",
            "Epoch 7/10\n",
            "----------\n",
            "train Loss: 0.1386 Acc: 0.9643\n",
            "val Loss: 0.3960 Acc: 0.8929\n",
            "\n",
            "Epoch 8/10\n",
            "----------\n",
            "train Loss: 0.0940 Acc: 0.9732\n",
            "val Loss: 0.3242 Acc: 0.8929\n",
            "\n",
            "Epoch 9/10\n",
            "----------\n",
            "train Loss: 0.0541 Acc: 0.9821\n",
            "val Loss: 0.2363 Acc: 0.9286\n",
            "\n",
            "Epoch 10/10\n",
            "----------\n",
            "train Loss: 0.0679 Acc: 0.9732\n",
            "val Loss: 0.1829 Acc: 0.9286\n",
            "\n",
            "Training complete in 16m 5s\n",
            "Best val Acc: 0.928571\n"
          ]
        }
      ],
      "source": [
        "model = train_model(model, optimizer, num_epochs=10)"
      ]
    },
    {
      "cell_type": "code",
      "source": [
        "torch.save(model, \"./skin-model.pt\")"
      ],
      "metadata": {
        "id": "v6VVfcBhMXYE"
      },
      "execution_count": null,
      "outputs": []
    }
  ],
  "metadata": {
    "colab": {
      "provenance": [],
      "include_colab_link": true
    },
    "kernelspec": {
      "display_name": "Python 3",
      "name": "python3"
    },
    "language_info": {
      "name": "python"
    },
    "widgets": {
      "application/vnd.jupyter.widget-state+json": {
        "cae1cac4492b48b7bbbe309774f701b1": {
          "model_module": "@jupyter-widgets/controls",
          "model_name": "HBoxModel",
          "model_module_version": "1.5.0",
          "state": {
            "_dom_classes": [],
            "_model_module": "@jupyter-widgets/controls",
            "_model_module_version": "1.5.0",
            "_model_name": "HBoxModel",
            "_view_count": null,
            "_view_module": "@jupyter-widgets/controls",
            "_view_module_version": "1.5.0",
            "_view_name": "HBoxView",
            "box_style": "",
            "children": [
              "IPY_MODEL_a0ba001724154e9cbbfe5bf8e9642b69",
              "IPY_MODEL_974a8ad52f1e4c5fb2ba549c19bca1af",
              "IPY_MODEL_b91bcb682f6545379bf42ce668bca73b"
            ],
            "layout": "IPY_MODEL_6b21e0a4b2d84070960aa068a56c71e0"
          }
        },
        "a0ba001724154e9cbbfe5bf8e9642b69": {
          "model_module": "@jupyter-widgets/controls",
          "model_name": "HTMLModel",
          "model_module_version": "1.5.0",
          "state": {
            "_dom_classes": [],
            "_model_module": "@jupyter-widgets/controls",
            "_model_module_version": "1.5.0",
            "_model_name": "HTMLModel",
            "_view_count": null,
            "_view_module": "@jupyter-widgets/controls",
            "_view_module_version": "1.5.0",
            "_view_name": "HTMLView",
            "description": "",
            "description_tooltip": null,
            "layout": "IPY_MODEL_a88337f2c63647c7b77cd54d990b729d",
            "placeholder": "​",
            "style": "IPY_MODEL_da909e08392a496ea2da4d118305ad1a",
            "value": "100%"
          }
        },
        "974a8ad52f1e4c5fb2ba549c19bca1af": {
          "model_module": "@jupyter-widgets/controls",
          "model_name": "FloatProgressModel",
          "model_module_version": "1.5.0",
          "state": {
            "_dom_classes": [],
            "_model_module": "@jupyter-widgets/controls",
            "_model_module_version": "1.5.0",
            "_model_name": "FloatProgressModel",
            "_view_count": null,
            "_view_module": "@jupyter-widgets/controls",
            "_view_module_version": "1.5.0",
            "_view_name": "ProgressView",
            "bar_style": "success",
            "description": "",
            "description_tooltip": null,
            "layout": "IPY_MODEL_85637dab4df04c92923777979f67a3df",
            "max": 21444401,
            "min": 0,
            "orientation": "horizontal",
            "style": "IPY_MODEL_c916761b3e874e6b8e926d0d55af9e08",
            "value": 21444401
          }
        },
        "b91bcb682f6545379bf42ce668bca73b": {
          "model_module": "@jupyter-widgets/controls",
          "model_name": "HTMLModel",
          "model_module_version": "1.5.0",
          "state": {
            "_dom_classes": [],
            "_model_module": "@jupyter-widgets/controls",
            "_model_module_version": "1.5.0",
            "_model_name": "HTMLModel",
            "_view_count": null,
            "_view_module": "@jupyter-widgets/controls",
            "_view_module_version": "1.5.0",
            "_view_name": "HTMLView",
            "description": "",
            "description_tooltip": null,
            "layout": "IPY_MODEL_38b3adb840844ea3bdc26d83d82f3134",
            "placeholder": "​",
            "style": "IPY_MODEL_e2ec9b0e77644f6fbb551d33884d0b9b",
            "value": " 20.5M/20.5M [00:00&lt;00:00, 51.0MB/s]"
          }
        },
        "6b21e0a4b2d84070960aa068a56c71e0": {
          "model_module": "@jupyter-widgets/base",
          "model_name": "LayoutModel",
          "model_module_version": "1.2.0",
          "state": {
            "_model_module": "@jupyter-widgets/base",
            "_model_module_version": "1.2.0",
            "_model_name": "LayoutModel",
            "_view_count": null,
            "_view_module": "@jupyter-widgets/base",
            "_view_module_version": "1.2.0",
            "_view_name": "LayoutView",
            "align_content": null,
            "align_items": null,
            "align_self": null,
            "border": null,
            "bottom": null,
            "display": null,
            "flex": null,
            "flex_flow": null,
            "grid_area": null,
            "grid_auto_columns": null,
            "grid_auto_flow": null,
            "grid_auto_rows": null,
            "grid_column": null,
            "grid_gap": null,
            "grid_row": null,
            "grid_template_areas": null,
            "grid_template_columns": null,
            "grid_template_rows": null,
            "height": null,
            "justify_content": null,
            "justify_items": null,
            "left": null,
            "margin": null,
            "max_height": null,
            "max_width": null,
            "min_height": null,
            "min_width": null,
            "object_fit": null,
            "object_position": null,
            "order": null,
            "overflow": null,
            "overflow_x": null,
            "overflow_y": null,
            "padding": null,
            "right": null,
            "top": null,
            "visibility": null,
            "width": null
          }
        },
        "a88337f2c63647c7b77cd54d990b729d": {
          "model_module": "@jupyter-widgets/base",
          "model_name": "LayoutModel",
          "model_module_version": "1.2.0",
          "state": {
            "_model_module": "@jupyter-widgets/base",
            "_model_module_version": "1.2.0",
            "_model_name": "LayoutModel",
            "_view_count": null,
            "_view_module": "@jupyter-widgets/base",
            "_view_module_version": "1.2.0",
            "_view_name": "LayoutView",
            "align_content": null,
            "align_items": null,
            "align_self": null,
            "border": null,
            "bottom": null,
            "display": null,
            "flex": null,
            "flex_flow": null,
            "grid_area": null,
            "grid_auto_columns": null,
            "grid_auto_flow": null,
            "grid_auto_rows": null,
            "grid_column": null,
            "grid_gap": null,
            "grid_row": null,
            "grid_template_areas": null,
            "grid_template_columns": null,
            "grid_template_rows": null,
            "height": null,
            "justify_content": null,
            "justify_items": null,
            "left": null,
            "margin": null,
            "max_height": null,
            "max_width": null,
            "min_height": null,
            "min_width": null,
            "object_fit": null,
            "object_position": null,
            "order": null,
            "overflow": null,
            "overflow_x": null,
            "overflow_y": null,
            "padding": null,
            "right": null,
            "top": null,
            "visibility": null,
            "width": null
          }
        },
        "da909e08392a496ea2da4d118305ad1a": {
          "model_module": "@jupyter-widgets/controls",
          "model_name": "DescriptionStyleModel",
          "model_module_version": "1.5.0",
          "state": {
            "_model_module": "@jupyter-widgets/controls",
            "_model_module_version": "1.5.0",
            "_model_name": "DescriptionStyleModel",
            "_view_count": null,
            "_view_module": "@jupyter-widgets/base",
            "_view_module_version": "1.2.0",
            "_view_name": "StyleView",
            "description_width": ""
          }
        },
        "85637dab4df04c92923777979f67a3df": {
          "model_module": "@jupyter-widgets/base",
          "model_name": "LayoutModel",
          "model_module_version": "1.2.0",
          "state": {
            "_model_module": "@jupyter-widgets/base",
            "_model_module_version": "1.2.0",
            "_model_name": "LayoutModel",
            "_view_count": null,
            "_view_module": "@jupyter-widgets/base",
            "_view_module_version": "1.2.0",
            "_view_name": "LayoutView",
            "align_content": null,
            "align_items": null,
            "align_self": null,
            "border": null,
            "bottom": null,
            "display": null,
            "flex": null,
            "flex_flow": null,
            "grid_area": null,
            "grid_auto_columns": null,
            "grid_auto_flow": null,
            "grid_auto_rows": null,
            "grid_column": null,
            "grid_gap": null,
            "grid_row": null,
            "grid_template_areas": null,
            "grid_template_columns": null,
            "grid_template_rows": null,
            "height": null,
            "justify_content": null,
            "justify_items": null,
            "left": null,
            "margin": null,
            "max_height": null,
            "max_width": null,
            "min_height": null,
            "min_width": null,
            "object_fit": null,
            "object_position": null,
            "order": null,
            "overflow": null,
            "overflow_x": null,
            "overflow_y": null,
            "padding": null,
            "right": null,
            "top": null,
            "visibility": null,
            "width": null
          }
        },
        "c916761b3e874e6b8e926d0d55af9e08": {
          "model_module": "@jupyter-widgets/controls",
          "model_name": "ProgressStyleModel",
          "model_module_version": "1.5.0",
          "state": {
            "_model_module": "@jupyter-widgets/controls",
            "_model_module_version": "1.5.0",
            "_model_name": "ProgressStyleModel",
            "_view_count": null,
            "_view_module": "@jupyter-widgets/base",
            "_view_module_version": "1.2.0",
            "_view_name": "StyleView",
            "bar_color": null,
            "description_width": ""
          }
        },
        "38b3adb840844ea3bdc26d83d82f3134": {
          "model_module": "@jupyter-widgets/base",
          "model_name": "LayoutModel",
          "model_module_version": "1.2.0",
          "state": {
            "_model_module": "@jupyter-widgets/base",
            "_model_module_version": "1.2.0",
            "_model_name": "LayoutModel",
            "_view_count": null,
            "_view_module": "@jupyter-widgets/base",
            "_view_module_version": "1.2.0",
            "_view_name": "LayoutView",
            "align_content": null,
            "align_items": null,
            "align_self": null,
            "border": null,
            "bottom": null,
            "display": null,
            "flex": null,
            "flex_flow": null,
            "grid_area": null,
            "grid_auto_columns": null,
            "grid_auto_flow": null,
            "grid_auto_rows": null,
            "grid_column": null,
            "grid_gap": null,
            "grid_row": null,
            "grid_template_areas": null,
            "grid_template_columns": null,
            "grid_template_rows": null,
            "height": null,
            "justify_content": null,
            "justify_items": null,
            "left": null,
            "margin": null,
            "max_height": null,
            "max_width": null,
            "min_height": null,
            "min_width": null,
            "object_fit": null,
            "object_position": null,
            "order": null,
            "overflow": null,
            "overflow_x": null,
            "overflow_y": null,
            "padding": null,
            "right": null,
            "top": null,
            "visibility": null,
            "width": null
          }
        },
        "e2ec9b0e77644f6fbb551d33884d0b9b": {
          "model_module": "@jupyter-widgets/controls",
          "model_name": "DescriptionStyleModel",
          "model_module_version": "1.5.0",
          "state": {
            "_model_module": "@jupyter-widgets/controls",
            "_model_module_version": "1.5.0",
            "_model_name": "DescriptionStyleModel",
            "_view_count": null,
            "_view_module": "@jupyter-widgets/base",
            "_view_module_version": "1.2.0",
            "_view_name": "StyleView",
            "description_width": ""
          }
        }
      }
    }
  },
  "nbformat": 4,
  "nbformat_minor": 0
}