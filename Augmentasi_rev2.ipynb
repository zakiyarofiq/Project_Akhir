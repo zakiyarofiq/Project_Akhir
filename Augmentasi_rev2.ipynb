{
  "nbformat": 4,
  "nbformat_minor": 0,
  "metadata": {
    "colab": {
      "provenance": [],
      "authorship_tag": "ABX9TyNEPNe83/wgF1bdlFQ+4qM/",
      "include_colab_link": true
    },
    "kernelspec": {
      "name": "python3",
      "display_name": "Python 3"
    },
    "language_info": {
      "name": "python"
    }
  },
  "cells": [
    {
      "cell_type": "markdown",
      "metadata": {
        "id": "view-in-github",
        "colab_type": "text"
      },
      "source": [
        "<a href=\"https://colab.research.google.com/github/zakiyarofiq/Project_Akhir/blob/main/Augmentasi_rev2.ipynb\" target=\"_parent\"><img src=\"https://colab.research.google.com/assets/colab-badge.svg\" alt=\"Open In Colab\"/></a>"
      ]
    },
    {
      "cell_type": "code",
      "execution_count": 1,
      "metadata": {
        "colab": {
          "base_uri": "https://localhost:8080/"
        },
        "id": "RH5IXllBjsw3",
        "outputId": "702ef9e4-893c-4a19-e6cb-348809dd212d"
      },
      "outputs": [
        {
          "output_type": "stream",
          "name": "stdout",
          "text": [
            "Drive already mounted at /content/gdrive; to attempt to forcibly remount, call drive.mount(\"/content/gdrive\", force_remount=True).\n"
          ]
        }
      ],
      "source": [
        "import numpy as np\n",
        "import cv2\n",
        "from PIL import Image\n",
        "from google.colab import drive\n",
        "drive.mount('/content/gdrive')"
      ]
    },
    {
      "cell_type": "code",
      "source": [
        "data_dir = './gdrive/MyDrive/TA/Data/datatraining'"
      ],
      "metadata": {
        "id": "pvHKIj_-D7C2"
      },
      "execution_count": 2,
      "outputs": []
    },
    {
      "cell_type": "code",
      "source": [
        "import os\n",
        "classes = os.listdir(data_dir)\n",
        "classes"
      ],
      "metadata": {
        "colab": {
          "base_uri": "https://localhost:8080/"
        },
        "id": "z0np_0BLD_iu",
        "outputId": "765b614f-4b9b-475f-c6bd-827d6bd3584d"
      },
      "execution_count": 3,
      "outputs": [
        {
          "output_type": "execute_result",
          "data": {
            "text/plain": [
              "['eksim', 'psoriasis', 'scabies']"
            ]
          },
          "metadata": {},
          "execution_count": 3
        }
      ]
    },
    {
      "cell_type": "code",
      "source": [
        "# Define transformations\n",
        "def augment_image(img):\n",
        "    # Load image\n",
        "    image = cv2.imread(img)\n",
        "\n",
        "    # Rotate image 180 degrees\n",
        "    height, width = image.shape[:2]\n",
        "    M = cv2.getRotationMatrix2D((width / 2, height / 2), 180, 1)\n",
        "    rotated = cv2.warpAffine(image, M, (width, height))\n",
        "\n",
        "    # Adjust brightness by 75%\n",
        "    M = np.ones(rotated.shape, dtype='uint8') * 75\n",
        "    img_dark = cv2.subtract(rotated, M)\n",
        "\n",
        "    # Add gaussian noise\n",
        "    noise = np.zeros(image.shape, np.uint8)\n",
        "    cv2.randn(noise, 0, 10)\n",
        "    noisy_img = cv2.add(img_dark, noise)\n",
        "\n",
        "    # Apply gaussian blur\n",
        "    denoised_img = cv2.fastNlMeansDenoising(noisy_img, None , 8,8)\n",
        "\n",
        "    return denoised_img\n",
        "\n",
        "# Define paths\n",
        "data_dir = './gdrive/MyDrive/TA/Data/datatraining/eksim'\n",
        "save_dir = './gdrive/MyDrive/TA/Data/Augmentasi_Data/eksim'\n",
        "\n",
        "# Loop through all images in data_dir\n",
        "for filename in os.listdir(data_dir):\n",
        "    # Load image\n",
        "    img_path = os.path.join(data_dir, filename)\n",
        "    img = cv2.imread(img_path)\n",
        "\n",
        "    # Apply transformations\n",
        "    augmented_image = augment_image(img_path)\n",
        "\n",
        "    # Save augmented image to save_dir\n",
        "    save_path = os.path.join(save_dir, filename)\n",
        "    cv2.imwrite(save_path, augmented_image)\n"
      ],
      "metadata": {
        "id": "0DdY482VVbHb"
      },
      "execution_count": 15,
      "outputs": []
    }
  ]
}