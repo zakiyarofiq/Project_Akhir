{
  "nbformat": 4,
  "nbformat_minor": 0,
  "metadata": {
    "colab": {
      "provenance": [],
      "authorship_tag": "ABX9TyP9iPYtivDVEMnBa+ymBPmA",
      "include_colab_link": true
    },
    "kernelspec": {
      "name": "python3",
      "display_name": "Python 3"
    },
    "language_info": {
      "name": "python"
    }
  },
  "cells": [
    {
      "cell_type": "markdown",
      "metadata": {
        "id": "view-in-github",
        "colab_type": "text"
      },
      "source": [
        "<a href=\"https://colab.research.google.com/github/zakiyarofiq/Project_Akhir/blob/main/Augmentasi_rev.ipynb\" target=\"_parent\"><img src=\"https://colab.research.google.com/assets/colab-badge.svg\" alt=\"Open In Colab\"/></a>"
      ]
    },
    {
      "cell_type": "code",
      "execution_count": 17,
      "metadata": {
        "colab": {
          "base_uri": "https://localhost:8080/"
        },
        "id": "RH5IXllBjsw3",
        "outputId": "13efea86-d528-4f06-f39d-327f343823c0"
      },
      "outputs": [
        {
          "output_type": "stream",
          "name": "stdout",
          "text": [
            "Drive already mounted at /content/gdrive; to attempt to forcibly remount, call drive.mount(\"/content/gdrive\", force_remount=True).\n"
          ]
        }
      ],
      "source": [
        "import torch\n",
        "import torchvision\n",
        "from torchvision import transforms\n",
        "import torchvision.transforms as transforms\n",
        "import torchvision.utils\n",
        "from PIL import Image\n",
        "from google.colab import drive\n",
        "drive.mount('/content/gdrive')"
      ]
    },
    {
      "cell_type": "code",
      "source": [
        "data_dir = './gdrive/MyDrive/TA/Data/datatraining'"
      ],
      "metadata": {
        "id": "pvHKIj_-D7C2"
      },
      "execution_count": 18,
      "outputs": []
    },
    {
      "cell_type": "code",
      "source": [
        "import os\n",
        "classes = os.listdir(data_dir)\n",
        "classes"
      ],
      "metadata": {
        "colab": {
          "base_uri": "https://localhost:8080/"
        },
        "id": "z0np_0BLD_iu",
        "outputId": "ca89f76f-90f9-400d-f31c-de8a21ea53d9"
      },
      "execution_count": 19,
      "outputs": [
        {
          "output_type": "execute_result",
          "data": {
            "text/plain": [
              "['eksim', 'psoriasis', 'scabies']"
            ]
          },
          "metadata": {},
          "execution_count": 19
        }
      ]
    },
    {
      "cell_type": "code",
      "source": [
        "# Define transformations\n",
        "transformations = transforms.Compose([\n",
        "    transforms.RandomRotation(degrees=20),\n",
        "    transforms.RandomHorizontalFlip(p=0.5),\n",
        "    transforms.RandomVerticalFlip(p=0.5),\n",
        "    transforms.RandomResizedCrop(size=(224, 224)),\n",
        "    transforms.ToTensor(),\n",
        "])\n",
        "\n",
        "# Define paths\n",
        "data_dir = './gdrive/MyDrive/TA/Data/datatraining/eksim'\n",
        "save_dir = './gdrive/MyDrive/TA/Data/Augmentasi_Data/eksim'\n",
        "\n",
        "# Loop through all images in data_dir\n",
        "for filename in os.listdir(data_dir):\n",
        "    if filename.endswith('.JPG'):\n",
        "        # Load image\n",
        "        img_path = os.path.join(data_dir, filename)\n",
        "        img = Image.open(img_path).convert(\"RGB\")\n",
        "\n",
        "        # Apply transformations\n",
        "        augmented_image = transformations(img)\n",
        "\n",
        "        # Save augmented image to save_dir\n",
        "        save_path = os.path.join(save_dir, filename)\n",
        "        torchvision.utils.save_image(augmented_image, save_path)\n"
      ],
      "metadata": {
        "id": "PPjwoa2S6--j"
      },
      "execution_count": 20,
      "outputs": []
    }
  ]
}